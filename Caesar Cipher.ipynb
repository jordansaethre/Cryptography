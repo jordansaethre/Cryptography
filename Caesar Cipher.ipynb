{
 "cells": [
  {
   "cell_type": "markdown",
   "metadata": {},
   "source": [
    "# Caesar Cipher\n",
    "_Author: Jordan Saethre_\n",
    "\n",
    "_Date: January 2016_\n",
    "\n",
    "This small project is an implemenation of the famous Caesar Cipher. This is a classical encryption scheme that works by substitution of letters shifted by 3 places. First the functions for encryption and decryption are defined and then used on an example.\n"
   ]
  },
  {
   "cell_type": "code",
   "execution_count": 12,
   "metadata": {},
   "outputs": [],
   "source": [
    "def Encrypt(plaintext):\n",
    "    import string\n",
    "    plaintext = plaintext.upper()\n",
    "    plaintext = plaintext.replace(' ','')\n",
    "    plainList = [ord(c) for c in plaintext]\n",
    "    plainList = [j-ord('A') for j in plainList]\n",
    "    plainList = [(j+3)%26 +ord('A') for j in plainList]\n",
    "    ciphertext = ''.join([chr(i) for i in plainList])\n",
    "    return ciphertext"
   ]
  },
  {
   "cell_type": "code",
   "execution_count": 13,
   "metadata": {},
   "outputs": [],
   "source": [
    "def Decrypt(Ciphertext):\n",
    "    import string\n",
    "    cipherList = [ord(k) for k in Ciphertext]\n",
    "    cipherList = [l-ord('A') for l in cipherList]\n",
    "    cipherList = [(l-3)%26 +ord('A') for l in cipherList]\n",
    "    Plaintext = ''.join([chr(m) for m in cipherList])\n",
    "    return Plaintext"
   ]
  },
  {
   "cell_type": "code",
   "execution_count": 16,
   "metadata": {},
   "outputs": [
    {
     "data": {
      "text/plain": [
       "'MRUGDQFHUWDLQOBORYHVKHUFDWV'"
      ]
     },
     "execution_count": 16,
     "metadata": {},
     "output_type": "execute_result"
    }
   ],
   "source": [
    "Encrypt('Jordan certainly loves her cats')"
   ]
  },
  {
   "cell_type": "code",
   "execution_count": 17,
   "metadata": {},
   "outputs": [
    {
     "data": {
      "text/plain": [
       "'JORDANCERTAINLYLOVESHERCATSU'"
      ]
     },
     "execution_count": 17,
     "metadata": {},
     "output_type": "execute_result"
    }
   ],
   "source": [
    "Decrypt('MRUGDQFHUWDLQOBORYHVKHUFDWVX')"
   ]
  }
 ],
 "metadata": {
  "kernelspec": {
   "display_name": "Python 3",
   "language": "python",
   "name": "python3"
  },
  "language_info": {
   "codemirror_mode": {
    "name": "ipython",
    "version": 3
   },
   "file_extension": ".py",
   "mimetype": "text/x-python",
   "name": "python",
   "nbconvert_exporter": "python",
   "pygments_lexer": "ipython3",
   "version": "3.7.3"
  }
 },
 "nbformat": 4,
 "nbformat_minor": 2
}
