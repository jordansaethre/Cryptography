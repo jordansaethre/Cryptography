{
 "cells": [
  {
   "cell_type": "markdown",
   "metadata": {},
   "source": [
    "# Elliptic Curve Digital Signature Algorithm\n",
    "This is an implementation of the algorithm that allows crypto currency to work. "
   ]
  },
  {
   "cell_type": "code",
   "execution_count": 1,
   "metadata": {},
   "outputs": [],
   "source": [
    "import hashlib\n",
    "import random"
   ]
  },
  {
   "cell_type": "code",
   "execution_count": 2,
   "metadata": {},
   "outputs": [],
   "source": [
    "def invMod(a,n):\n",
    "    #this finds the inverse of a mod n\n",
    "    r1 = n\n",
    "    r2 = a%n\n",
    "    tempR = 0\n",
    "    t1 = 0  \n",
    "    t2 = 1  \n",
    "    tempT = 0\n",
    "    q = 0\n",
    "    while (r2 > 0):        \n",
    "        q = r1//r2\n",
    "        tempT = t2\n",
    "        t2 = t1 - q*t2\n",
    "        t1 = tempT\n",
    "        tempR = r2\n",
    "        r2 = r1 - q*r2\n",
    "        r1 = tempR\n",
    "    if (r1 > 1):\n",
    "        return 0\n",
    "    return t1"
   ]
  },
  {
   "cell_type": "code",
   "execution_count": 3,
   "metadata": {},
   "outputs": [],
   "source": [
    "def isPtOnC(P, Elist, char):\n",
    "\tx = P[0]\n",
    "\ty = P[1]\n",
    "\ta = Elist[0]\n",
    "\tb = Elist[1]\n",
    "\tc = Elist[2]\n",
    "\tif ( x == float(\"inf\") and y == float(\"inf\")):\n",
    "\t\treturn True\n",
    "\tif ( (y**2 - x**3 - a*x**2 - b*x - c)%char == 0):\n",
    "\t\treturn True\n",
    "\telse:\n",
    "\t\treturn False"
   ]
  },
  {
   "cell_type": "code",
   "execution_count": 4,
   "metadata": {},
   "outputs": [
    {
     "ename": "SyntaxError",
     "evalue": "Missing parentheses in call to 'print'. Did you mean print(\"Error.  Couldn't invert the denominator.\")? (<ipython-input-4-bb77872fe9a9>, line 17)",
     "output_type": "error",
     "traceback": [
      "\u001b[1;36m  File \u001b[1;32m\"<ipython-input-4-bb77872fe9a9>\"\u001b[1;36m, line \u001b[1;32m17\u001b[0m\n\u001b[1;33m    print \"Error.  Couldn't invert the denominator.\"\u001b[0m\n\u001b[1;37m                                                   ^\u001b[0m\n\u001b[1;31mSyntaxError\u001b[0m\u001b[1;31m:\u001b[0m Missing parentheses in call to 'print'. Did you mean print(\"Error.  Couldn't invert the denominator.\")?\n"
     ]
    }
   ],
   "source": [
    "def doublePt(P, Elist, char):\n",
    "\tx = P[0]\n",
    "\ty = P[1]\n",
    "\ta = Elist[0]\n",
    "\tb = Elist[1]\n",
    "\tc = Elist[2]\n",
    "\tinf = float(\"inf\")\n",
    "\tif (y == inf):\n",
    "\t\treturn [inf,inf]\n",
    "\tif (y%char == 0): #first handle the case if our tangle line is vertical\n",
    "\t\treturn [inf,inf]\n",
    "\t#now do the real work, remember\n",
    "\t#A = (3x^2 + 2ax + b)/(2y), so we need to invert 2y\n",
    "\tif (char > 0):  #first do the positive characteristic case\n",
    "\t\ttwoyinv = invMod(2*y, char)\n",
    "\t\tif (twoyinv == 0):  #this shouldn't happen as long as our prime p > 2\n",
    "\t\t\tprint \"Error.  Couldn't invert the denominator.\"\n",
    "\t\t\treturn False\n",
    "\t\tA = ((3*x**2 + 2*a*x+b)*twoyinv)%char\n",
    "\t\t\n",
    "\t\t#so we plug in y = A(x - x_0) + y_0 into our y^2 = x^3 + ... equation, and we observe that this becomes\n",
    "\t\t#x^3 + (a - A^2)x^2 + ...\n",
    "\t\t#then the x-coordinate of the intersection point is -a + A^2 - 2*x\n",
    "\t\tx2P = (A**2-a-2*x)%char\n",
    "\t\ty2P = (-(A*(x2P-x)+y))%char\n",
    "\t\treturn [x2P, y2P]\n",
    "\telse: #now we do the characteristic zero case, one should really work with x and y in the fractions class (floats are not so great here).\n",
    "\t\tA = (3*x**2 + 2*a*x+b)/(2*y)\n",
    "\t\tx2P = (A**2 - a- 2*x)\n",
    "\t\ty2P = (-(A*(x2P-x)+y))\n",
    "\t\treturn [x2P, y2P]"
   ]
  },
  {
   "cell_type": "code",
   "execution_count": 5,
   "metadata": {},
   "outputs": [],
   "source": [
    "def addPts(P, Q, Elist, char):\t\n",
    "\txP = P[0]\n",
    "\tyP = P[1]\n",
    "\txQ = Q[0]\n",
    "\tyQ = Q[1]\n",
    "\ta = Elist[0]  #y^2 = x^3 + ax^2 + bx + c\n",
    "\tb = Elist[1]\n",
    "\tc = Elist[2]\n",
    "\tinf = float(\"inf\")\n",
    "\t#first we handle all the easy cases\n",
    "\tif (yP == inf): \n",
    "\t\treturn Q\n",
    "\tif (yQ == inf):\n",
    "\t\treturn P\n",
    "\tif (xP == xQ):\n",
    "\t\tif (yP == yQ):#if we are doubling a point...\n",
    "\t\t\treturn doublePt(P, Elist, char)\n",
    "\t\telse: #if we are not doubling a point, but the x-coords\n",
    "\t\t      #agree, then we are going to add to infinity.\n",
    "\t\t\treturn [inf, inf]\n",
    "\t#next do the real work.  \n",
    "\tif (char > 0):  #do the positive characteristic case\n",
    "\t\t\n",
    "\t\tinv=invMod(xP-xQ,char)\n",
    "\t\tA = ((yP-yQ)*inv)%char\n",
    "\t\txPQ = (A**2 - a - xP - xQ)%char\n",
    "\t\tyPQ = (-(A*(xPQ-xP)+yP))%char\n",
    "\t\treturn [xPQ, yPQ]\n",
    "\telse:\n",
    "\t\tA = (yP-yQ)/(xP-xQ)\n",
    "\t\txPQ = (A**2 - a - xP - xQ)\n",
    "\t\tyPQ = (-(A*(x2P-x)+y))\n",
    "\t\treturn [xPQ, yPQ]"
   ]
  },
  {
   "cell_type": "code",
   "execution_count": 6,
   "metadata": {},
   "outputs": [],
   "source": [
    "def multPt(n, P, Elist, char):\n",
    "\tcurN = n\n",
    "\tcurP = P\n",
    "\tinf = float(\"inf\")\n",
    "\ttotalP = [inf,inf]\n",
    "\t\n",
    "\tif (curN == 0):\n",
    "\t\treturn [inf, inf]\n",
    "\tif (curN == 1):\n",
    "\t\treturn P\n",
    "\tif (curN < 0):\n",
    "\t\treturn multPts(-curN, [P[0], -P[0]], Elist, char)\n",
    "\twhile (curN > 0):\n",
    "\t\t#print curN\n",
    "\t\t#print curP\n",
    "\t\tif (curN%2 == 1):\n",
    "\t\t\ttotalP = addPts(totalP, curP, Elist, char)\n",
    "\t\t\t#print \"added\"\n",
    "\t\t\t#print totalP\n",
    "\t\tcurP = doublePt(curP, Elist, char)\t\t\t\t\n",
    "\t\tcurN = curN/2\n",
    "\t\t\n",
    "\treturn totalP"
   ]
  },
  {
   "cell_type": "code",
   "execution_count": null,
   "metadata": {},
   "outputs": [],
   "source": [
    "def HashMessage(message,n):\n",
    "    h = hashlib.sha256()\n",
    "    h.update(message)\n",
    "    s = h.hexdigest()\n",
    "    val = (int(s,16))%(n-2)\n",
    "    return val"
   ]
  },
  {
   "cell_type": "code",
   "execution_count": 7,
   "metadata": {},
   "outputs": [],
   "source": [
    "def sign(m,d,Q,n,Elist,char):\n",
    "    #m is the message\n",
    "    #d is the private key\n",
    "    #Q is my point\n",
    "    #n = ord(Q) is the prime number computed elsewhere\n",
    "    #Elist is elliptic curve\n",
    "    #char is the characteristic\n",
    "    z = HashMessage(m,n)\n",
    "    myRand = random.SystemRandom() #cryptographically secure random number\n",
    "    r = 0\n",
    "    while(r == 0):\n",
    "        k = myRand.randint(1,n-1)\n",
    "        kQ = multPt(k,Q,Elist,char) #computes k*Q\n",
    "        x1 = kQ[0]\n",
    "        r = x1%n\n",
    "        kinv = invMod(k,n)\n",
    "        s = (kinv*(z+ (r*d)))%n\n",
    "    return [r,s]"
   ]
  },
  {
   "cell_type": "code",
   "execution_count": 8,
   "metadata": {},
   "outputs": [],
   "source": [
    "def validate(m,R,Q,n,Elist, char, signature):\n",
    "    #m,Q,n,Elist,char are same from above\n",
    "    #R is d*Q Alice's public key\n",
    "    #signature is the list [r,s]\n",
    "    r = signature[0]\n",
    "    s = signature[1]\n",
    "    z = HashMessage(m,n)\n",
    "    w = invMod(s,n)\n",
    "    u1 = (z*w)%n\n",
    "    u2 = (r*w)%n\n",
    "    k1 = multPt(u1,Q,Elist,char)\n",
    "    k2 = multPt(u2,R,Elist,char)\n",
    "    T = addPts(k1,k2,Elist,char)\n",
    "    return ((T[0])%n == r%n)"
   ]
  }
 ],
 "metadata": {
  "kernelspec": {
   "display_name": "Python 3",
   "language": "python",
   "name": "python3"
  },
  "language_info": {
   "codemirror_mode": {
    "name": "ipython",
    "version": 3
   },
   "file_extension": ".py",
   "mimetype": "text/x-python",
   "name": "python",
   "nbconvert_exporter": "python",
   "pygments_lexer": "ipython3",
   "version": "3.7.3"
  }
 },
 "nbformat": 4,
 "nbformat_minor": 2
}
