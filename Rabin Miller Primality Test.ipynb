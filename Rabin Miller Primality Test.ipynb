{
 "cells": [
  {
   "cell_type": "markdown",
   "metadata": {},
   "source": [
    "# Rabin Miller Primality Testing\n",
    "The following is an implementation of the Rabin Miller Primality Test. Many cryptographic schemes rely on the difficulty in factoring large numbers into primes. This is a probabilistic algorthm that can test numbers for primeness."
   ]
  },
  {
   "cell_type": "code",
   "execution_count": 1,
   "metadata": {},
   "outputs": [],
   "source": [
    "def power2count(n): #counts powers of 2\n",
    "    i = 1\n",
    "    while(n%2 == 0):\n",
    "        n = n//2\n",
    "        i = i + 1\n",
    "    return [i - 1, n]"
   ]
  },
  {
   "cell_type": "code",
   "execution_count": 2,
   "metadata": {},
   "outputs": [],
   "source": [
    "def CompositeTest(a,n): #returns true if number is composite, if false then it is probably prime\n",
    "    shortlist = power2count(n-1)\n",
    "    k = shortlist[0]\n",
    "    q = shortlist[1]\n",
    "    if (pow(a,q,n) == 1):\n",
    "        return False\n",
    "    i = 0\n",
    "    for i in range (0,k):\n",
    "        m = (2**i)*q\n",
    "        if (pow(a,m,n) == n-1):\n",
    "            return False\n",
    "    return True"
   ]
  },
  {
   "cell_type": "code",
   "execution_count": 3,
   "metadata": {},
   "outputs": [],
   "source": [
    "import random"
   ]
  },
  {
   "cell_type": "code",
   "execution_count": 4,
   "metadata": {},
   "outputs": [],
   "source": [
    "def PrimeProb(K,n): # returns \"composite\" if composite, returns the probability that the number n is prime\n",
    "    j = 1\n",
    "    for j in range(1,K+1):\n",
    "        a = random.randint(2,n-1)\n",
    "        if (CompositeTest(a,n) == False):\n",
    "            print ('Prime')\n",
    "            probability = 1-((0.25)**(j))\n",
    "            print ('with')\n",
    "            print (probability)\n",
    "            print ('probability.')\n",
    "            j = j + 1\n",
    "        if (CompositeTest(a,n) == True):\n",
    "            print ('Composite')\n",
    "            break"
   ]
  },
  {
   "cell_type": "code",
   "execution_count": 5,
   "metadata": {},
   "outputs": [],
   "source": [
    "def CheckifPrime(K,n): #runs comp test K times, if it fails the test K times it returns true\n",
    "    j = 1\n",
    "    for j in range(1,K+1):\n",
    "        a = random.randint(2,n-1)\n",
    "        if (CompositeTest(a,n) == False):\n",
    "            j = j+1\n",
    "        if (CompositeTest(a,n) == True):\n",
    "            return False\n",
    "            break\n",
    "        return True"
   ]
  },
  {
   "cell_type": "code",
   "execution_count": 7,
   "metadata": {},
   "outputs": [],
   "source": [
    "def findNextPrime(C,n): #finds next prime by running C RM tests on every odd after n\n",
    "    if (n%2 == 0):#checks if even\n",
    "        n = n+1 #add one to make it odd\n",
    "        flag = True\n",
    "        while(flag == True):\n",
    "            if(CheckifPrime(C,n) == True):\n",
    "                flag == False\n",
    "                return (n)\n",
    "            n = n+2\n",
    "    if(n%2 == 1): #checks if odd\n",
    "        n = n+2 # adds two to get to the next odd\n",
    "        flag = True\n",
    "        while(flag == True):\n",
    "            if(CheckifPrime(C,n) == True):\n",
    "                flag == False\n",
    "                return (n)\n",
    "            n = n+2"
   ]
  },
  {
   "cell_type": "markdown",
   "metadata": {},
   "source": [
    "### Example"
   ]
  },
  {
   "cell_type": "code",
   "execution_count": 8,
   "metadata": {},
   "outputs": [
    {
     "data": {
      "text/plain": [
       "False"
      ]
     },
     "execution_count": 8,
     "metadata": {},
     "output_type": "execute_result"
    }
   ],
   "source": [
    "CheckifPrime(100,2367654)"
   ]
  },
  {
   "cell_type": "code",
   "execution_count": 9,
   "metadata": {},
   "outputs": [
    {
     "data": {
      "text/plain": [
       "True"
      ]
     },
     "execution_count": 9,
     "metadata": {},
     "output_type": "execute_result"
    }
   ],
   "source": [
    "CheckifPrime(100,5087)"
   ]
  },
  {
   "cell_type": "code",
   "execution_count": 10,
   "metadata": {},
   "outputs": [
    {
     "data": {
      "text/plain": [
       "5099"
      ]
     },
     "execution_count": 10,
     "metadata": {},
     "output_type": "execute_result"
    }
   ],
   "source": [
    "findNextPrime(10, 5087)"
   ]
  }
 ],
 "metadata": {
  "kernelspec": {
   "display_name": "Python 3",
   "language": "python",
   "name": "python3"
  },
  "language_info": {
   "codemirror_mode": {
    "name": "ipython",
    "version": 3
   },
   "file_extension": ".py",
   "mimetype": "text/x-python",
   "name": "python",
   "nbconvert_exporter": "python",
   "pygments_lexer": "ipython3",
   "version": "3.7.3"
  }
 },
 "nbformat": 4,
 "nbformat_minor": 2
}
